{
 "cells": [
  {
   "cell_type": "markdown",
   "metadata": {},
   "source": [
    "### DATA CLEANING"
   ]
  },
  {
   "cell_type": "code",
   "execution_count": 46,
   "metadata": {},
   "outputs": [],
   "source": [
    "#import libraries\n",
    "import numpy as np\n",
    "import pandas as pd\n",
    "import matplotlib.pyplot as plt\n",
    "import seaborn as sns"
   ]
  },
  {
   "cell_type": "code",
   "execution_count": 3,
   "metadata": {},
   "outputs": [
    {
     "data": {
      "text/html": [
       "<div>\n",
       "<style scoped>\n",
       "    .dataframe tbody tr th:only-of-type {\n",
       "        vertical-align: middle;\n",
       "    }\n",
       "\n",
       "    .dataframe tbody tr th {\n",
       "        vertical-align: top;\n",
       "    }\n",
       "\n",
       "    .dataframe thead th {\n",
       "        text-align: right;\n",
       "    }\n",
       "</style>\n",
       "<table border=\"1\" class=\"dataframe\">\n",
       "  <thead>\n",
       "    <tr style=\"text-align: right;\">\n",
       "      <th></th>\n",
       "      <th>Unnamed: 0</th>\n",
       "      <th>TITLE</th>\n",
       "      <th>AUTHOR</th>\n",
       "      <th>DATE</th>\n",
       "      <th>STAR</th>\n",
       "      <th>RATING</th>\n",
       "      <th>CATEGORY</th>\n",
       "    </tr>\n",
       "  </thead>\n",
       "  <tbody>\n",
       "    <tr>\n",
       "      <th>0</th>\n",
       "      <td>0</td>\n",
       "      <td>Alice's Adventures in Wonderland: 150th Annive...</td>\n",
       "      <td>Lewis Carroll</td>\n",
       "      <td>Sep 29, 2015</td>\n",
       "      <td>4.5</td>\n",
       "      <td>8259</td>\n",
       "      <td>Arts &amp; Photography</td>\n",
       "    </tr>\n",
       "    <tr>\n",
       "      <th>1</th>\n",
       "      <td>1</td>\n",
       "      <td>First Little Readers Parent Pack: Guided Readi...</td>\n",
       "      <td>Deborah Schecter</td>\n",
       "      <td>Oct 1, 2010</td>\n",
       "      <td>4.7</td>\n",
       "      <td>8170</td>\n",
       "      <td>Arts &amp; Photography</td>\n",
       "    </tr>\n",
       "    <tr>\n",
       "      <th>2</th>\n",
       "      <td>2</td>\n",
       "      <td>Lettering and Modern Calligraphy: A Beginner's...</td>\n",
       "      <td>|</td>\n",
       "      <td>Oct 27, 2017</td>\n",
       "      <td>4.4</td>\n",
       "      <td>8156</td>\n",
       "      <td>Arts &amp; Photography</td>\n",
       "    </tr>\n",
       "    <tr>\n",
       "      <th>3</th>\n",
       "      <td>3</td>\n",
       "      <td>Disney Dreams Collection Thomas Kinkade Studio...</td>\n",
       "      <td>Thomas Kinkade</td>\n",
       "      <td>Sep 19, 2017</td>\n",
       "      <td>4.7</td>\n",
       "      <td>8004</td>\n",
       "      <td>Arts &amp; Photography</td>\n",
       "    </tr>\n",
       "    <tr>\n",
       "      <th>4</th>\n",
       "      <td>4</td>\n",
       "      <td>Hinch Yourself Happy: All The Best Cleaning Ti...</td>\n",
       "      <td>Mrs Hinch</td>\n",
       "      <td>Apr 4, 2019</td>\n",
       "      <td>4.7</td>\n",
       "      <td>7739</td>\n",
       "      <td>Arts &amp; Photography</td>\n",
       "    </tr>\n",
       "  </tbody>\n",
       "</table>\n",
       "</div>"
      ],
      "text/plain": [
       "   Unnamed: 0                                              TITLE  \\\n",
       "0           0  Alice's Adventures in Wonderland: 150th Annive...   \n",
       "1           1  First Little Readers Parent Pack: Guided Readi...   \n",
       "2           2  Lettering and Modern Calligraphy: A Beginner's...   \n",
       "3           3  Disney Dreams Collection Thomas Kinkade Studio...   \n",
       "4           4  Hinch Yourself Happy: All The Best Cleaning Ti...   \n",
       "\n",
       "             AUTHOR          DATE STAR  RATING            CATEGORY  \n",
       "0     Lewis Carroll  Sep 29, 2015  4.5    8259  Arts & Photography  \n",
       "1  Deborah Schecter   Oct 1, 2010  4.7    8170  Arts & Photography  \n",
       "2                |   Oct 27, 2017  4.4    8156  Arts & Photography  \n",
       "3    Thomas Kinkade  Sep 19, 2017  4.7    8004  Arts & Photography  \n",
       "4         Mrs Hinch   Apr 4, 2019  4.7    7739  Arts & Photography  "
      ]
     },
     "execution_count": 3,
     "metadata": {},
     "output_type": "execute_result"
    }
   ],
   "source": [
    "#import the csv file generated from web scraping the amazon website\n",
    "df = pd.read_csv('Amazon Books.csv')\n",
    "df.head()"
   ]
  },
  {
   "cell_type": "code",
   "execution_count": 5,
   "metadata": {},
   "outputs": [],
   "source": [
    "# removing the unnamed column\n",
    "df = df.drop('Unnamed: 0', axis = 1)"
   ]
  },
  {
   "cell_type": "code",
   "execution_count": 6,
   "metadata": {},
   "outputs": [],
   "source": [
    "# giving the labels a more informative name\n",
    "column_names = {'CATEGORY':'Category', 'TITLE':'Title', 'AUTHOR':'Author','DATE':'Date Published', 'STAR':'Rating','RATING':'Number of Ratings' }\n",
    "df= df.rename(columns=column_names)"
   ]
  },
  {
   "cell_type": "code",
   "execution_count": 7,
   "metadata": {},
   "outputs": [
    {
     "data": {
      "text/html": [
       "<div>\n",
       "<style scoped>\n",
       "    .dataframe tbody tr th:only-of-type {\n",
       "        vertical-align: middle;\n",
       "    }\n",
       "\n",
       "    .dataframe tbody tr th {\n",
       "        vertical-align: top;\n",
       "    }\n",
       "\n",
       "    .dataframe thead th {\n",
       "        text-align: right;\n",
       "    }\n",
       "</style>\n",
       "<table border=\"1\" class=\"dataframe\">\n",
       "  <thead>\n",
       "    <tr style=\"text-align: right;\">\n",
       "      <th></th>\n",
       "      <th>Title</th>\n",
       "      <th>Author</th>\n",
       "      <th>Date Published</th>\n",
       "      <th>Rating</th>\n",
       "      <th>Number of Ratings</th>\n",
       "      <th>Category</th>\n",
       "    </tr>\n",
       "  </thead>\n",
       "  <tbody>\n",
       "    <tr>\n",
       "      <th>0</th>\n",
       "      <td>Alice's Adventures in Wonderland: 150th Annive...</td>\n",
       "      <td>Lewis Carroll</td>\n",
       "      <td>Sep 29, 2015</td>\n",
       "      <td>4.5</td>\n",
       "      <td>8259</td>\n",
       "      <td>Arts &amp; Photography</td>\n",
       "    </tr>\n",
       "    <tr>\n",
       "      <th>1</th>\n",
       "      <td>First Little Readers Parent Pack: Guided Readi...</td>\n",
       "      <td>Deborah Schecter</td>\n",
       "      <td>Oct 1, 2010</td>\n",
       "      <td>4.7</td>\n",
       "      <td>8170</td>\n",
       "      <td>Arts &amp; Photography</td>\n",
       "    </tr>\n",
       "    <tr>\n",
       "      <th>2</th>\n",
       "      <td>Lettering and Modern Calligraphy: A Beginner's...</td>\n",
       "      <td>|</td>\n",
       "      <td>Oct 27, 2017</td>\n",
       "      <td>4.4</td>\n",
       "      <td>8156</td>\n",
       "      <td>Arts &amp; Photography</td>\n",
       "    </tr>\n",
       "    <tr>\n",
       "      <th>3</th>\n",
       "      <td>Disney Dreams Collection Thomas Kinkade Studio...</td>\n",
       "      <td>Thomas Kinkade</td>\n",
       "      <td>Sep 19, 2017</td>\n",
       "      <td>4.7</td>\n",
       "      <td>8004</td>\n",
       "      <td>Arts &amp; Photography</td>\n",
       "    </tr>\n",
       "    <tr>\n",
       "      <th>4</th>\n",
       "      <td>Hinch Yourself Happy: All The Best Cleaning Ti...</td>\n",
       "      <td>Mrs Hinch</td>\n",
       "      <td>Apr 4, 2019</td>\n",
       "      <td>4.7</td>\n",
       "      <td>7739</td>\n",
       "      <td>Arts &amp; Photography</td>\n",
       "    </tr>\n",
       "  </tbody>\n",
       "</table>\n",
       "</div>"
      ],
      "text/plain": [
       "                                               Title            Author  \\\n",
       "0  Alice's Adventures in Wonderland: 150th Annive...     Lewis Carroll   \n",
       "1  First Little Readers Parent Pack: Guided Readi...  Deborah Schecter   \n",
       "2  Lettering and Modern Calligraphy: A Beginner's...                |    \n",
       "3  Disney Dreams Collection Thomas Kinkade Studio...    Thomas Kinkade   \n",
       "4  Hinch Yourself Happy: All The Best Cleaning Ti...         Mrs Hinch   \n",
       "\n",
       "  Date Published Rating  Number of Ratings            Category  \n",
       "0   Sep 29, 2015    4.5               8259  Arts & Photography  \n",
       "1    Oct 1, 2010    4.7               8170  Arts & Photography  \n",
       "2   Oct 27, 2017    4.4               8156  Arts & Photography  \n",
       "3   Sep 19, 2017    4.7               8004  Arts & Photography  \n",
       "4    Apr 4, 2019    4.7               7739  Arts & Photography  "
      ]
     },
     "execution_count": 7,
     "metadata": {},
     "output_type": "execute_result"
    }
   ],
   "source": [
    "df.head()"
   ]
  },
  {
   "cell_type": "markdown",
   "metadata": {},
   "source": [
    "#### More cleanings on each of the columns"
   ]
  },
  {
   "cell_type": "code",
   "execution_count": 8,
   "metadata": {},
   "outputs": [
    {
     "data": {
      "text/plain": [
       "(5,\n",
       " ['Arts & Photography',\n",
       "  'Biographies & Memoirs',\n",
       "  'Business & Money',\n",
       "  'Avg. Customer Review',\n",
       "  \"Children's Books\"])"
      ]
     },
     "execution_count": 8,
     "metadata": {},
     "output_type": "execute_result"
    }
   ],
   "source": [
    "# CATEGORY\n",
    "\n",
    "#Get the number and list of unique categories\n",
    "df['Category'].nunique(), list(df['Category'].unique())"
   ]
  },
  {
   "cell_type": "code",
   "execution_count": 10,
   "metadata": {},
   "outputs": [
    {
     "data": {
      "text/plain": [
       "(5,\n",
       " ['Arts & Photography',\n",
       "  'Biographies & Memoirs',\n",
       "  'Business & Money',\n",
       "  'Calendars',\n",
       "  \"Children's Books\"])"
      ]
     },
     "execution_count": 10,
     "metadata": {},
     "output_type": "execute_result"
    }
   ],
   "source": [
    "# Avg. Customer Review seems to be scrapped incorrectly, so we replace it\n",
    "df['Category'] = df['Category'].replace('Avg. Customer Review','Calendars')\n",
    "\n",
    "#confirming the change\n",
    "df['Category'].nunique(), list(df['Category'].unique())"
   ]
  },
  {
   "cell_type": "code",
   "execution_count": 11,
   "metadata": {},
   "outputs": [],
   "source": [
    "# DATE PUBLISHED\n",
    "from datetime import datetime"
   ]
  },
  {
   "cell_type": "code",
   "execution_count": 12,
   "metadata": {},
   "outputs": [
    {
     "data": {
      "text/html": [
       "<div>\n",
       "<style scoped>\n",
       "    .dataframe tbody tr th:only-of-type {\n",
       "        vertical-align: middle;\n",
       "    }\n",
       "\n",
       "    .dataframe tbody tr th {\n",
       "        vertical-align: top;\n",
       "    }\n",
       "\n",
       "    .dataframe thead th {\n",
       "        text-align: right;\n",
       "    }\n",
       "</style>\n",
       "<table border=\"1\" class=\"dataframe\">\n",
       "  <thead>\n",
       "    <tr style=\"text-align: right;\">\n",
       "      <th></th>\n",
       "      <th>Title</th>\n",
       "      <th>Author</th>\n",
       "      <th>Date Published</th>\n",
       "      <th>Rating</th>\n",
       "      <th>Number of Ratings</th>\n",
       "      <th>Category</th>\n",
       "    </tr>\n",
       "  </thead>\n",
       "  <tbody>\n",
       "  </tbody>\n",
       "</table>\n",
       "</div>"
      ],
      "text/plain": [
       "Empty DataFrame\n",
       "Columns: [Title, Author, Date Published, Rating, Number of Ratings, Category]\n",
       "Index: []"
      ]
     },
     "execution_count": 12,
     "metadata": {},
     "output_type": "execute_result"
    }
   ],
   "source": [
    "#check for indexes with anomalies\n",
    "df[df['Date Published']=='-']"
   ]
  },
  {
   "cell_type": "code",
   "execution_count": 13,
   "metadata": {},
   "outputs": [],
   "source": [
    "#convert to standard datetime format\n",
    "df['Date Published'] = pd.to_datetime(df['Date Published'], format='%b %d, %Y', errors='coerce')"
   ]
  },
  {
   "cell_type": "code",
   "execution_count": 14,
   "metadata": {},
   "outputs": [
    {
     "data": {
      "text/html": [
       "<div>\n",
       "<style scoped>\n",
       "    .dataframe tbody tr th:only-of-type {\n",
       "        vertical-align: middle;\n",
       "    }\n",
       "\n",
       "    .dataframe tbody tr th {\n",
       "        vertical-align: top;\n",
       "    }\n",
       "\n",
       "    .dataframe thead th {\n",
       "        text-align: right;\n",
       "    }\n",
       "</style>\n",
       "<table border=\"1\" class=\"dataframe\">\n",
       "  <thead>\n",
       "    <tr style=\"text-align: right;\">\n",
       "      <th></th>\n",
       "      <th>Title</th>\n",
       "      <th>Author</th>\n",
       "      <th>Date Published</th>\n",
       "      <th>Rating</th>\n",
       "      <th>Number of Ratings</th>\n",
       "      <th>Category</th>\n",
       "    </tr>\n",
       "  </thead>\n",
       "  <tbody>\n",
       "    <tr>\n",
       "      <th>0</th>\n",
       "      <td>Alice's Adventures in Wonderland: 150th Annive...</td>\n",
       "      <td>Lewis Carroll</td>\n",
       "      <td>2015-09-29</td>\n",
       "      <td>4.5</td>\n",
       "      <td>8259</td>\n",
       "      <td>Arts &amp; Photography</td>\n",
       "    </tr>\n",
       "    <tr>\n",
       "      <th>1</th>\n",
       "      <td>First Little Readers Parent Pack: Guided Readi...</td>\n",
       "      <td>Deborah Schecter</td>\n",
       "      <td>2010-10-01</td>\n",
       "      <td>4.7</td>\n",
       "      <td>8170</td>\n",
       "      <td>Arts &amp; Photography</td>\n",
       "    </tr>\n",
       "    <tr>\n",
       "      <th>2</th>\n",
       "      <td>Lettering and Modern Calligraphy: A Beginner's...</td>\n",
       "      <td>|</td>\n",
       "      <td>2017-10-27</td>\n",
       "      <td>4.4</td>\n",
       "      <td>8156</td>\n",
       "      <td>Arts &amp; Photography</td>\n",
       "    </tr>\n",
       "    <tr>\n",
       "      <th>3</th>\n",
       "      <td>Disney Dreams Collection Thomas Kinkade Studio...</td>\n",
       "      <td>Thomas Kinkade</td>\n",
       "      <td>2017-09-19</td>\n",
       "      <td>4.7</td>\n",
       "      <td>8004</td>\n",
       "      <td>Arts &amp; Photography</td>\n",
       "    </tr>\n",
       "    <tr>\n",
       "      <th>4</th>\n",
       "      <td>Hinch Yourself Happy: All The Best Cleaning Ti...</td>\n",
       "      <td>Mrs Hinch</td>\n",
       "      <td>2019-04-04</td>\n",
       "      <td>4.7</td>\n",
       "      <td>7739</td>\n",
       "      <td>Arts &amp; Photography</td>\n",
       "    </tr>\n",
       "  </tbody>\n",
       "</table>\n",
       "</div>"
      ],
      "text/plain": [
       "                                               Title            Author  \\\n",
       "0  Alice's Adventures in Wonderland: 150th Annive...     Lewis Carroll   \n",
       "1  First Little Readers Parent Pack: Guided Readi...  Deborah Schecter   \n",
       "2  Lettering and Modern Calligraphy: A Beginner's...                |    \n",
       "3  Disney Dreams Collection Thomas Kinkade Studio...    Thomas Kinkade   \n",
       "4  Hinch Yourself Happy: All The Best Cleaning Ti...         Mrs Hinch   \n",
       "\n",
       "  Date Published Rating  Number of Ratings            Category  \n",
       "0     2015-09-29    4.5               8259  Arts & Photography  \n",
       "1     2010-10-01    4.7               8170  Arts & Photography  \n",
       "2     2017-10-27    4.4               8156  Arts & Photography  \n",
       "3     2017-09-19    4.7               8004  Arts & Photography  \n",
       "4     2019-04-04    4.7               7739  Arts & Photography  "
      ]
     },
     "execution_count": 14,
     "metadata": {},
     "output_type": "execute_result"
    }
   ],
   "source": [
    "df.head()"
   ]
  },
  {
   "cell_type": "code",
   "execution_count": 16,
   "metadata": {},
   "outputs": [
    {
     "data": {
      "text/plain": [
       "Title                0\n",
       "Author               0\n",
       "Date Published       0\n",
       "Rating               0\n",
       "Number of Ratings    0\n",
       "Category             0\n",
       "dtype: int64"
      ]
     },
     "execution_count": 16,
     "metadata": {},
     "output_type": "execute_result"
    }
   ],
   "source": [
    "# MISSING VALUES\n",
    "\n",
    "#check for columns with missing values\n",
    "df.isnull().sum()"
   ]
  },
  {
   "cell_type": "markdown",
   "metadata": {},
   "source": [
    "### DATA ANALYSIS"
   ]
  },
  {
   "cell_type": "code",
   "execution_count": 18,
   "metadata": {},
   "outputs": [
    {
     "data": {
      "text/html": [
       "<div>\n",
       "<style scoped>\n",
       "    .dataframe tbody tr th:only-of-type {\n",
       "        vertical-align: middle;\n",
       "    }\n",
       "\n",
       "    .dataframe tbody tr th {\n",
       "        vertical-align: top;\n",
       "    }\n",
       "\n",
       "    .dataframe thead th {\n",
       "        text-align: right;\n",
       "    }\n",
       "</style>\n",
       "<table border=\"1\" class=\"dataframe\">\n",
       "  <thead>\n",
       "    <tr style=\"text-align: right;\">\n",
       "      <th></th>\n",
       "      <th>Title</th>\n",
       "      <th>Author</th>\n",
       "      <th>Date Published</th>\n",
       "      <th>Rating</th>\n",
       "      <th>Number of Ratings</th>\n",
       "      <th>Category</th>\n",
       "    </tr>\n",
       "  </thead>\n",
       "  <tbody>\n",
       "    <tr>\n",
       "      <th>0</th>\n",
       "      <td>Alice's Adventures in Wonderland: 150th Annive...</td>\n",
       "      <td>Lewis Carroll</td>\n",
       "      <td>2015-09-29</td>\n",
       "      <td>4.5</td>\n",
       "      <td>8259</td>\n",
       "      <td>Arts &amp; Photography</td>\n",
       "    </tr>\n",
       "    <tr>\n",
       "      <th>1</th>\n",
       "      <td>First Little Readers Parent Pack: Guided Readi...</td>\n",
       "      <td>Deborah Schecter</td>\n",
       "      <td>2010-10-01</td>\n",
       "      <td>4.7</td>\n",
       "      <td>8170</td>\n",
       "      <td>Arts &amp; Photography</td>\n",
       "    </tr>\n",
       "    <tr>\n",
       "      <th>2</th>\n",
       "      <td>Lettering and Modern Calligraphy: A Beginner's...</td>\n",
       "      <td>|</td>\n",
       "      <td>2017-10-27</td>\n",
       "      <td>4.4</td>\n",
       "      <td>8156</td>\n",
       "      <td>Arts &amp; Photography</td>\n",
       "    </tr>\n",
       "    <tr>\n",
       "      <th>3</th>\n",
       "      <td>Disney Dreams Collection Thomas Kinkade Studio...</td>\n",
       "      <td>Thomas Kinkade</td>\n",
       "      <td>2017-09-19</td>\n",
       "      <td>4.7</td>\n",
       "      <td>8004</td>\n",
       "      <td>Arts &amp; Photography</td>\n",
       "    </tr>\n",
       "    <tr>\n",
       "      <th>4</th>\n",
       "      <td>Hinch Yourself Happy: All The Best Cleaning Ti...</td>\n",
       "      <td>Mrs Hinch</td>\n",
       "      <td>2019-04-04</td>\n",
       "      <td>4.7</td>\n",
       "      <td>7739</td>\n",
       "      <td>Arts &amp; Photography</td>\n",
       "    </tr>\n",
       "  </tbody>\n",
       "</table>\n",
       "</div>"
      ],
      "text/plain": [
       "                                               Title            Author  \\\n",
       "0  Alice's Adventures in Wonderland: 150th Annive...     Lewis Carroll   \n",
       "1  First Little Readers Parent Pack: Guided Readi...  Deborah Schecter   \n",
       "2  Lettering and Modern Calligraphy: A Beginner's...                |    \n",
       "3  Disney Dreams Collection Thomas Kinkade Studio...    Thomas Kinkade   \n",
       "4  Hinch Yourself Happy: All The Best Cleaning Ti...         Mrs Hinch   \n",
       "\n",
       "  Date Published Rating  Number of Ratings            Category  \n",
       "0     2015-09-29    4.5               8259  Arts & Photography  \n",
       "1     2010-10-01    4.7               8170  Arts & Photography  \n",
       "2     2017-10-27    4.4               8156  Arts & Photography  \n",
       "3     2017-09-19    4.7               8004  Arts & Photography  \n",
       "4     2019-04-04    4.7               7739  Arts & Photography  "
      ]
     },
     "execution_count": 18,
     "metadata": {},
     "output_type": "execute_result"
    }
   ],
   "source": [
    "df.head()"
   ]
  },
  {
   "cell_type": "code",
   "execution_count": 20,
   "metadata": {},
   "outputs": [
    {
     "data": {
      "text/plain": [
       "(224, 6)"
      ]
     },
     "execution_count": 20,
     "metadata": {},
     "output_type": "execute_result"
    }
   ],
   "source": [
    "df.shape"
   ]
  },
  {
   "cell_type": "code",
   "execution_count": 22,
   "metadata": {},
   "outputs": [
    {
     "data": {
      "text/html": [
       "<div>\n",
       "<style scoped>\n",
       "    .dataframe tbody tr th:only-of-type {\n",
       "        vertical-align: middle;\n",
       "    }\n",
       "\n",
       "    .dataframe tbody tr th {\n",
       "        vertical-align: top;\n",
       "    }\n",
       "\n",
       "    .dataframe thead th {\n",
       "        text-align: right;\n",
       "    }\n",
       "</style>\n",
       "<table border=\"1\" class=\"dataframe\">\n",
       "  <thead>\n",
       "    <tr style=\"text-align: right;\">\n",
       "      <th></th>\n",
       "      <th>Number of Ratings</th>\n",
       "    </tr>\n",
       "  </thead>\n",
       "  <tbody>\n",
       "    <tr>\n",
       "      <th>count</th>\n",
       "      <td>224.000000</td>\n",
       "    </tr>\n",
       "    <tr>\n",
       "      <th>mean</th>\n",
       "      <td>13560.959821</td>\n",
       "    </tr>\n",
       "    <tr>\n",
       "      <th>std</th>\n",
       "      <td>20851.398399</td>\n",
       "    </tr>\n",
       "    <tr>\n",
       "      <th>min</th>\n",
       "      <td>822.000000</td>\n",
       "    </tr>\n",
       "    <tr>\n",
       "      <th>25%</th>\n",
       "      <td>4951.250000</td>\n",
       "    </tr>\n",
       "    <tr>\n",
       "      <th>50%</th>\n",
       "      <td>8756.500000</td>\n",
       "    </tr>\n",
       "    <tr>\n",
       "      <th>75%</th>\n",
       "      <td>14754.000000</td>\n",
       "    </tr>\n",
       "    <tr>\n",
       "      <th>max</th>\n",
       "      <td>126815.000000</td>\n",
       "    </tr>\n",
       "  </tbody>\n",
       "</table>\n",
       "</div>"
      ],
      "text/plain": [
       "       Number of Ratings\n",
       "count         224.000000\n",
       "mean        13560.959821\n",
       "std         20851.398399\n",
       "min           822.000000\n",
       "25%          4951.250000\n",
       "50%          8756.500000\n",
       "75%         14754.000000\n",
       "max        126815.000000"
      ]
     },
     "execution_count": 22,
     "metadata": {},
     "output_type": "execute_result"
    }
   ],
   "source": [
    "df.describe()"
   ]
  },
  {
   "cell_type": "code",
   "execution_count": 30,
   "metadata": {},
   "outputs": [],
   "source": [
    "df1 = df.loc[df['Date Published'] <='2020']"
   ]
  },
  {
   "cell_type": "code",
   "execution_count": 31,
   "metadata": {},
   "outputs": [
    {
     "data": {
      "text/html": [
       "<div>\n",
       "<style scoped>\n",
       "    .dataframe tbody tr th:only-of-type {\n",
       "        vertical-align: middle;\n",
       "    }\n",
       "\n",
       "    .dataframe tbody tr th {\n",
       "        vertical-align: top;\n",
       "    }\n",
       "\n",
       "    .dataframe thead th {\n",
       "        text-align: right;\n",
       "    }\n",
       "</style>\n",
       "<table border=\"1\" class=\"dataframe\">\n",
       "  <thead>\n",
       "    <tr style=\"text-align: right;\">\n",
       "      <th></th>\n",
       "      <th>Title</th>\n",
       "      <th>Author</th>\n",
       "      <th>Date Published</th>\n",
       "      <th>Rating</th>\n",
       "      <th>Number of Ratings</th>\n",
       "      <th>Category</th>\n",
       "    </tr>\n",
       "  </thead>\n",
       "  <tbody>\n",
       "    <tr>\n",
       "      <th>0</th>\n",
       "      <td>Alice's Adventures in Wonderland: 150th Annive...</td>\n",
       "      <td>Lewis Carroll</td>\n",
       "      <td>2015-09-29</td>\n",
       "      <td>4.5</td>\n",
       "      <td>8259</td>\n",
       "      <td>Arts &amp; Photography</td>\n",
       "    </tr>\n",
       "    <tr>\n",
       "      <th>1</th>\n",
       "      <td>First Little Readers Parent Pack: Guided Readi...</td>\n",
       "      <td>Deborah Schecter</td>\n",
       "      <td>2010-10-01</td>\n",
       "      <td>4.7</td>\n",
       "      <td>8170</td>\n",
       "      <td>Arts &amp; Photography</td>\n",
       "    </tr>\n",
       "    <tr>\n",
       "      <th>2</th>\n",
       "      <td>Lettering and Modern Calligraphy: A Beginner's...</td>\n",
       "      <td>|</td>\n",
       "      <td>2017-10-27</td>\n",
       "      <td>4.4</td>\n",
       "      <td>8156</td>\n",
       "      <td>Arts &amp; Photography</td>\n",
       "    </tr>\n",
       "    <tr>\n",
       "      <th>3</th>\n",
       "      <td>Disney Dreams Collection Thomas Kinkade Studio...</td>\n",
       "      <td>Thomas Kinkade</td>\n",
       "      <td>2017-09-19</td>\n",
       "      <td>4.7</td>\n",
       "      <td>8004</td>\n",
       "      <td>Arts &amp; Photography</td>\n",
       "    </tr>\n",
       "    <tr>\n",
       "      <th>4</th>\n",
       "      <td>Hinch Yourself Happy: All The Best Cleaning Ti...</td>\n",
       "      <td>Mrs Hinch</td>\n",
       "      <td>2019-04-04</td>\n",
       "      <td>4.7</td>\n",
       "      <td>7739</td>\n",
       "      <td>Arts &amp; Photography</td>\n",
       "    </tr>\n",
       "  </tbody>\n",
       "</table>\n",
       "</div>"
      ],
      "text/plain": [
       "                                               Title            Author  \\\n",
       "0  Alice's Adventures in Wonderland: 150th Annive...     Lewis Carroll   \n",
       "1  First Little Readers Parent Pack: Guided Readi...  Deborah Schecter   \n",
       "2  Lettering and Modern Calligraphy: A Beginner's...                |    \n",
       "3  Disney Dreams Collection Thomas Kinkade Studio...    Thomas Kinkade   \n",
       "4  Hinch Yourself Happy: All The Best Cleaning Ti...         Mrs Hinch   \n",
       "\n",
       "  Date Published Rating  Number of Ratings            Category  \n",
       "0     2015-09-29    4.5               8259  Arts & Photography  \n",
       "1     2010-10-01    4.7               8170  Arts & Photography  \n",
       "2     2017-10-27    4.4               8156  Arts & Photography  \n",
       "3     2017-09-19    4.7               8004  Arts & Photography  \n",
       "4     2019-04-04    4.7               7739  Arts & Photography  "
      ]
     },
     "execution_count": 31,
     "metadata": {},
     "output_type": "execute_result"
    }
   ],
   "source": [
    "df1.head() "
   ]
  },
  {
   "cell_type": "code",
   "execution_count": 32,
   "metadata": {},
   "outputs": [
    {
     "data": {
      "text/plain": [
       "(224, 6)"
      ]
     },
     "execution_count": 32,
     "metadata": {},
     "output_type": "execute_result"
    }
   ],
   "source": [
    "df.shape"
   ]
  },
  {
   "cell_type": "markdown",
   "metadata": {},
   "source": [
    "#### WHAT IS THE HIGHEST RATING AND WHICH BOOK AND BOOK CATEGORY IS IT?"
   ]
  },
  {
   "cell_type": "code",
   "execution_count": 40,
   "metadata": {},
   "outputs": [
    {
     "data": {
      "text/plain": [
       "array(['The Pigeon HAS to Go to School!',\n",
       "       'The Autobiography of Malcolm X: As Told to Alex Haley',\n",
       "       'Corduroy',\n",
       "       'Left to Tell: Discovering God Amidst the Rwandan Holocaust',\n",
       "       'Lone Survivor: The Eyewitness Account of Operation Redwing and the Lost Heroes of SEAL Team 10'],\n",
       "      dtype=object)"
      ]
     },
     "execution_count": 40,
     "metadata": {},
     "output_type": "execute_result"
    }
   ],
   "source": [
    "df1.sort_values('Number of Ratings', ascending = False).iloc[:5].Title.unique()"
   ]
  },
  {
   "cell_type": "code",
   "execution_count": 43,
   "metadata": {},
   "outputs": [
    {
     "data": {
      "text/plain": [
       "<matplotlib.axes._subplots.AxesSubplot at 0xcb8fef0>"
      ]
     },
     "execution_count": 43,
     "metadata": {},
     "output_type": "execute_result"
    },
    {
     "data": {
      "image/png": "[encoded data removed]",
      "text/plain": [
       "<Figure size 432x288 with 1 Axes>"
      ]
     },
     "metadata": {
      "needs_background": "light"
     },
     "output_type": "display_data"
    }
   ],
   "source": [
    "#categories with most reviews\n",
    "most_review = df.groupby('Category')['Number of Ratings'].sum().to_frame().reset_index().sort_values('Number of Ratings', ascending = False).iloc[:5]\n",
    "most_review.sort_values('Number of Ratings').plot.barh(x = 'Category', color = 'blue')"
   ]
  },
  {
   "cell_type": "code",
   "execution_count": null,
   "metadata": {},
   "outputs": [],
   "source": []
  }
 ],
 "metadata": {
  "kernelspec": {
   "display_name": "Python 3",
   "language": "python",
   "name": "python3"
  },
  "language_info": {
   "codemirror_mode": {
    "name": "ipython",
    "version": 3
   },
   "file_extension": ".py",
   "mimetype": "text/x-python",
   "name": "python",
   "nbconvert_exporter": "python",
   "pygments_lexer": "ipython3",
   "version": "3.7.6"
  }
 },
 "nbformat": 4,
 "nbformat_minor": 4
}
